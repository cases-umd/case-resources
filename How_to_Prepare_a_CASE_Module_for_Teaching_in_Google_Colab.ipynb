{
  "nbformat": 4,
  "nbformat_minor": 0,
  "metadata": {
    "colab": {
      "name": "How to Prepare a CASE Module for Teaching in Google Colab.ipynb",
      "provenance": [],
      "collapsed_sections": [],
      "toc_visible": true
    },
    "kernelspec": {
      "name": "python3",
      "display_name": "Python 3"
    }
  },
  "cells": [
    {
      "cell_type": "markdown",
      "metadata": {
        "id": "GTyrpZy8JosB"
      },
      "source": [
        "# How to Prepare a CASE Module for Teaching in Google Colab\n",
        "\n",
        "This notebook will help you to import any CASE Module into Google Drive and add some student instructions for using the notebooks in Colab. \n",
        "\n",
        "## First Steps\n",
        "\n",
        "If have not already done so, open Google Drive and create a new folder under \"My Drive\" called \"CASE-Modules\" (exactly). We will use this folder to host all of your CASE Modules in Google Drive.\n",
        "\n",
        "## Customizing Student Instructions\n",
        "\n",
        "This notebook will add a \"Student Instructions for Google Colab\" section to every notebook within the CASE Module that you prepare. The student instructions can used verbatim or they may be customized to suit your own students. If you have any edits for the student instructions, follow these steps.\n",
        "\n",
        "1. Create a new, empty Colab notebook.\n",
        "1. Change the name of the notebook to \"Student-Instructions.ipynb\".\n",
        "1. Copy and paste the two cells (one text and one code) that make up the student instructions at the end of this notebook, into your new empty notebook.\n",
        "1. Make your edits as needed. You can add more cells if you like, but remember that these cells will be prepended into every notebook within the CASE Module.\n",
        "1. In your new notebook browser tab, select File -> Save a Copy in Drive.\n",
        "1. Finally, use File -> Locate in Drive to find your new notebook and move it into your My Drive / CASE-Modules folder.\n",
        "1. Now your custom instructions are in place.\n",
        "\n",
        "## Preparing the module in Google Drive\n",
        "\n",
        "As an instructor using CASE modules in Colab, here are the common steps:\n",
        "\n",
        "1. Open the CASES website and find the desired CASE module page.\n",
        "1. Follow the link to view the CASE module in GitHub. (circular cat logo)\n",
        "1. Click on the \"Code\" tab in GitHub to view the module's main folder.\n",
        "1. Click on the green \"↓ Code\" button and copy the GitHub repository URL shown in the resulting pop-up panel. It should end with **.git**, like this one:\n",
        "```\n",
        "  https://github.com/cases-umd/Reading-Punchcards.git\n",
        "```\n",
        "1. Replace the quoted value for repository_url in the first line of the code cell below.\n",
        "1. Run the code cell and follow the prompts to authorize Colab's access to your Google Drive.\n",
        "1. Once your Google Drive is mounted, the code proceeds to take these steps for you:\n",
        "  1. Clones the CASE Module into a new folder under **My Drive/CASE-Modules**.\n",
        "  1. Changes the current working directory to the new CASE Module folder.\n",
        "  1. Updates all the Python notebooks in the CASE Module to include the student instructions. (It will use your custom instructions if that notebook exists in your drive.)\n",
        "1. Your new Google Drive hosted CASE Module is ready to be shared with students via the Google Drive folder sharing feature.\n",
        "\n",
        "## Sharing and Editing\n",
        "\n",
        "You can share your CASE module folder as fully editable or as read-only. In read-only mode your students will be be able to edits within their Colab sessions, but will be unable to save them. Students can make their own copies of the CASE Module folder if they want to save changes. Note that if they make a copy and also write data files from within the notebook, then they will need to update the \"current working directory\" path within the student instructions section to reflect the path to *their own copy* of the CASE module."
      ]
    },
    {
      "cell_type": "code",
      "metadata": {
        "colab": {
          "base_uri": "https://localhost:8080/"
        },
        "id": "jUl-QHbJrmPO",
        "outputId": "f2d38078-a293-458d-e37f-50654dea8c65"
      },
      "source": [
        "git_repository_url = \"https://github.com/cases-umd/Reading-Punchcards.git\"  # EDIT URL IN QUOTES\n",
        "\n",
        "from google.colab import drive\n",
        "drive.mount('/gdrive')  # Mount Google Drive folders in this Colab session.\n",
        "import os\n",
        "import io\n",
        "os.chdir(\"/gdrive/MyDrive/CASE-Modules\")\n",
        "!git clone $git_repository_url\n",
        "folder_name = os.path.basename(git_repository_url).partition('.git')[0]\n",
        "os.chdir(folder_name)  # Change working directory to CASE module folder\n",
        "\n",
        "# load student instructions from notebook file\n",
        "src_nb = None\n",
        "src_path = \"/gdrive/MyDrive/CASE-Modules/Student-Instructions.ipynb\"\n",
        "if os.path.exists(src_path):\n",
        "  with io.open(src_path, encoding='utf8') as f:\n",
        "    src_nb = read(f, 'json')\n",
        "else:\n",
        "  link = \"https://\"\n",
        "  with urllib.urlopen(link) as f:\n",
        "    src_nb = read(f, 'json')\n",
        "for subdir, dirs, files in os.walk(os.getcwd()):\n",
        "  files = [ fi for fi in files if fi.endswith(\".ipynb\") ]\n",
        "  for file in files:\n",
        "    ipynb = os.path.join(subdir, file)\n",
        "    print(\"Added instructions to: %s\" % ipynb)\n",
        "    #with io.open(ipynb, encoding='utf8') as f:\n",
        "    #  nb = read(f, 'json')\n",
        "      # do it here\n",
        "    # with io.open(ipynb, 'w', encoding='utf8') as f:\n",
        "    #  write(nb, f, 'json')\n",
        "    #print \"wrote %s\" % new_ipynb"
      ],
      "execution_count": null,
      "outputs": [
        {
          "output_type": "stream",
          "text": [
            "Drive already mounted at /gdrive; to attempt to forcibly remount, call drive.mount(\"/gdrive\", force_remount=True).\n",
            "fatal: destination path 'Reading-Punchcards' already exists and is not an empty directory.\n",
            "scrubbing /gdrive/MyDrive/CASE-Modules/Reading-Punchcards/index.ipynb\n",
            "scrubbing /gdrive/MyDrive/CASE-Modules/Reading-Punchcards/notebook-1.ipynb\n",
            "scrubbing /gdrive/MyDrive/CASE-Modules/Reading-Punchcards/notebook-2.ipynb\n",
            "scrubbing /gdrive/MyDrive/CASE-Modules/Reading-Punchcards/notebook-3.ipynb\n"
          ],
          "name": "stdout"
        }
      ]
    },
    {
      "cell_type": "markdown",
      "metadata": {
        "id": "dB2MqbHmFx_Q"
      },
      "source": [
        "# Student Instructions for Google Colab\n",
        "\n",
        "Each time you open this notebook in a new Colab session, you need to \"mount\" your Google Drive and change the current working directory in order to access CASE module data files. Run the code cell below to accomplish these tasks. Note that the code uses standardized Google Drive folder names, which you may adjust as needed if your folders are named differently.\n",
        "\n",
        "## Notebook Links\n",
        "\n",
        "This notebook may contain links to other notebooks in the CASE Module. However, you cannot follow these links from within Colab itself. You also cannot open other notebooks from the Colab folder view on the left-hand side. You will need to switch back to your Google Drive browser tab in order to open each notebook."
      ]
    },
    {
      "cell_type": "code",
      "metadata": {
        "colab": {
          "base_uri": "https://localhost:8080/"
        },
        "id": "4wVWnNlue7GY",
        "outputId": "a64df009-3e37-4aaf-c92c-43f3ce4aaddd"
      },
      "source": [
        "%%writefile -a test_output.txt\n",
        "# Cell contents"
      ],
      "execution_count": null,
      "outputs": [
        {
          "output_type": "stream",
          "text": [
            "Writing test_output.txt\n"
          ],
          "name": "stdout"
        }
      ]
    },
    {
      "cell_type": "code",
      "metadata": {
        "colab": {
          "base_uri": "https://localhost:8080/"
        },
        "id": "MA646AimHtUi",
        "outputId": "8a377d98-fafe-452e-d428-bd5c075ae999"
      },
      "source": [
        "from google.colab import drive\n",
        "drive.mount('/gdrive')\n",
        "## Setting the working directory\n",
        "import os\n",
        "os.chdir(\"/gdrive/SharedDrives/CASE-Modules/Reading-Punchcards\")\n",
        "!ls"
      ],
      "execution_count": null,
      "outputs": [
        {
          "output_type": "stream",
          "text": [
            "Drive already mounted at /gdrive; to attempt to forcibly remount, call drive.mount(\"/gdrive\", force_remount=True).\n",
            "fatal: destination path 'Reading-Punchcards' already exists and is not an empty directory.\n",
            "cards\t\t  notebook-2.ipynb    punchcard.py\tsample.png\n",
            "index.ipynb\t  notebook-3.ipynb    requirements.txt\n",
            "notebook-1.ipynb  prepared_image.png  runtime.txt\n",
            "Already up to date.\n"
          ],
          "name": "stdout"
        }
      ]
    }
  ]
}